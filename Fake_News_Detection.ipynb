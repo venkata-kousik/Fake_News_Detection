{
 "cells": [
  {
   "cell_type": "code",
   "execution_count": 1,
   "id": "b409485e",
   "metadata": {},
   "outputs": [
    {
     "name": "stderr",
     "output_type": "stream",
     "text": [
      "\n",
      "[notice] A new release of pip is available: 23.2.1 -> 24.0\n",
      "[notice] To update, run: python.exe -m pip install --upgrade pip\n"
     ]
    },
    {
     "name": "stdout",
     "output_type": "stream",
     "text": [
      "Requirement already satisfied: pandas in c:\\users\\kakar\\appdata\\local\\programs\\python\\python312\\lib\\site-packages (2.2.2)\n",
      "Requirement already satisfied: numpy>=1.26.0 in c:\\users\\kakar\\appdata\\local\\programs\\python\\python312\\lib\\site-packages (from pandas) (1.26.4)\n",
      "Requirement already satisfied: python-dateutil>=2.8.2 in c:\\users\\kakar\\appdata\\roaming\\python\\python312\\site-packages (from pandas) (2.8.2)\n",
      "Requirement already satisfied: pytz>=2020.1 in c:\\users\\kakar\\appdata\\local\\programs\\python\\python312\\lib\\site-packages (from pandas) (2024.1)\n",
      "Requirement already satisfied: tzdata>=2022.7 in c:\\users\\kakar\\appdata\\local\\programs\\python\\python312\\lib\\site-packages (from pandas) (2024.1)\n",
      "Requirement already satisfied: six>=1.5 in c:\\users\\kakar\\appdata\\roaming\\python\\python312\\site-packages (from python-dateutil>=2.8.2->pandas) (1.16.0)\n"
     ]
    }
   ],
   "source": [
    "!pip install pandas\n",
    "import pandas as pd"
   ]
  },
  {
   "cell_type": "code",
   "execution_count": 21,
   "id": "9cc1e701",
   "metadata": {},
   "outputs": [],
   "source": [
    "#Part-1: EDA\n",
    "data=pd.read_csv(\"news.csv\")"
   ]
  },
  {
   "cell_type": "code",
   "execution_count": 22,
   "id": "c80931ef",
   "metadata": {},
   "outputs": [
    {
     "data": {
      "text/html": [
       "<div>\n",
       "<style scoped>\n",
       "    .dataframe tbody tr th:only-of-type {\n",
       "        vertical-align: middle;\n",
       "    }\n",
       "\n",
       "    .dataframe tbody tr th {\n",
       "        vertical-align: top;\n",
       "    }\n",
       "\n",
       "    .dataframe thead th {\n",
       "        text-align: right;\n",
       "    }\n",
       "</style>\n",
       "<table border=\"1\" class=\"dataframe\">\n",
       "  <thead>\n",
       "    <tr style=\"text-align: right;\">\n",
       "      <th></th>\n",
       "      <th>Unnamed: 0</th>\n",
       "      <th>title</th>\n",
       "      <th>text</th>\n",
       "      <th>label</th>\n",
       "    </tr>\n",
       "  </thead>\n",
       "  <tbody>\n",
       "    <tr>\n",
       "      <th>0</th>\n",
       "      <td>8476</td>\n",
       "      <td>You Can Smell Hillary’s Fear</td>\n",
       "      <td>Daniel Greenfield, a Shillman Journalism Fello...</td>\n",
       "      <td>FAKE</td>\n",
       "    </tr>\n",
       "    <tr>\n",
       "      <th>1</th>\n",
       "      <td>10294</td>\n",
       "      <td>Watch The Exact Moment Paul Ryan Committed Pol...</td>\n",
       "      <td>Google Pinterest Digg Linkedin Reddit Stumbleu...</td>\n",
       "      <td>FAKE</td>\n",
       "    </tr>\n",
       "    <tr>\n",
       "      <th>2</th>\n",
       "      <td>3608</td>\n",
       "      <td>Kerry to go to Paris in gesture of sympathy</td>\n",
       "      <td>U.S. Secretary of State John F. Kerry said Mon...</td>\n",
       "      <td>REAL</td>\n",
       "    </tr>\n",
       "    <tr>\n",
       "      <th>3</th>\n",
       "      <td>10142</td>\n",
       "      <td>Bernie supporters on Twitter erupt in anger ag...</td>\n",
       "      <td>— Kaydee King (@KaydeeKing) November 9, 2016 T...</td>\n",
       "      <td>FAKE</td>\n",
       "    </tr>\n",
       "    <tr>\n",
       "      <th>4</th>\n",
       "      <td>875</td>\n",
       "      <td>The Battle of New York: Why This Primary Matters</td>\n",
       "      <td>It's primary day in New York and front-runners...</td>\n",
       "      <td>REAL</td>\n",
       "    </tr>\n",
       "  </tbody>\n",
       "</table>\n",
       "</div>"
      ],
      "text/plain": [
       "   Unnamed: 0                                              title  \\\n",
       "0        8476                       You Can Smell Hillary’s Fear   \n",
       "1       10294  Watch The Exact Moment Paul Ryan Committed Pol...   \n",
       "2        3608        Kerry to go to Paris in gesture of sympathy   \n",
       "3       10142  Bernie supporters on Twitter erupt in anger ag...   \n",
       "4         875   The Battle of New York: Why This Primary Matters   \n",
       "\n",
       "                                                text label  \n",
       "0  Daniel Greenfield, a Shillman Journalism Fello...  FAKE  \n",
       "1  Google Pinterest Digg Linkedin Reddit Stumbleu...  FAKE  \n",
       "2  U.S. Secretary of State John F. Kerry said Mon...  REAL  \n",
       "3  — Kaydee King (@KaydeeKing) November 9, 2016 T...  FAKE  \n",
       "4  It's primary day in New York and front-runners...  REAL  "
      ]
     },
     "execution_count": 22,
     "metadata": {},
     "output_type": "execute_result"
    }
   ],
   "source": [
    "data.head()"
   ]
  },
  {
   "cell_type": "code",
   "execution_count": 23,
   "id": "51f279e1",
   "metadata": {},
   "outputs": [
    {
     "name": "stdout",
     "output_type": "stream",
     "text": [
      "Shape of the dataset: (6335, 4)\n"
     ]
    }
   ],
   "source": [
    "# Checking the shape of the dataset\n",
    "print(\"Shape of the dataset:\", data.shape)"
   ]
  },
  {
   "cell_type": "code",
   "execution_count": 24,
   "id": "90dc3358",
   "metadata": {},
   "outputs": [
    {
     "name": "stdout",
     "output_type": "stream",
     "text": [
      "\n",
      "Missing values:\n",
      "Unnamed: 0    0\n",
      "title         0\n",
      "text          0\n",
      "label         0\n",
      "dtype: int64\n"
     ]
    }
   ],
   "source": [
    "# Checking for missing values\n",
    "print(\"\\nMissing values:\")\n",
    "print(data.isnull().sum())"
   ]
  },
  {
   "cell_type": "code",
   "execution_count": 25,
   "id": "e3e4172e",
   "metadata": {},
   "outputs": [
    {
     "name": "stdout",
     "output_type": "stream",
     "text": [
      "label\n",
      "REAL    3171\n",
      "FAKE    3164\n",
      "Name: count, dtype: int64\n"
     ]
    },
    {
     "data": {
      "image/png": "[encoded data removed]",
      "text/plain": [
       "<Figure size 640x480 with 1 Axes>"
      ]
     },
     "metadata": {},
     "output_type": "display_data"
    }
   ],
   "source": [
    "import matplotlib.pyplot as plt\n",
    "\n",
    "# Distribution of Labels\n",
    "label_counts = data['label'].value_counts()\n",
    "print(label_counts)\n",
    "plt.bar(label_counts.index, label_counts.values)\n",
    "plt.xlabel('Label')\n",
    "plt.ylabel('Count')\n",
    "plt.title('Distribution of Labels')\n",
    "plt.show()"
   ]
  },
  {
   "cell_type": "code",
   "execution_count": 26,
   "id": "52cf5d66",
   "metadata": {},
   "outputs": [
    {
     "name": "stdout",
     "output_type": "stream",
     "text": [
      "Title length statistics:\n",
      "count    6335.000000\n",
      "mean       65.277664\n",
      "std        23.733657\n",
      "min         1.000000\n",
      "25%        49.000000\n",
      "50%        64.000000\n",
      "75%        78.000000\n",
      "max       289.000000\n",
      "Name: title_length, dtype: float64\n",
      "\n",
      "Text length statistics:\n",
      "count      6335.000000\n",
      "mean       4707.250355\n",
      "std        5090.956446\n",
      "min           1.000000\n",
      "25%        1741.500000\n",
      "50%        3642.000000\n",
      "75%        6192.000000\n",
      "max      115372.000000\n",
      "Name: text_length, dtype: float64\n"
     ]
    }
   ],
   "source": [
    "# Explore the length distribution of titles and texts\n",
    "data['title_length'] = data['title'].apply(lambda x: len(str(x)))\n",
    "data['text_length'] = data['text'].apply(lambda x: len(str(x)))\n",
    "\n",
    "print(\"Title length statistics:\")\n",
    "print(data['title_length'].describe())\n",
    "\n",
    "print(\"\\nText length statistics:\")\n",
    "print(data['text_length'].describe())"
   ]
  },
  {
   "cell_type": "code",
   "execution_count": 27,
   "id": "b3606bac",
   "metadata": {},
   "outputs": [
    {
     "name": "stdout",
     "output_type": "stream",
     "text": [
      "Most common words in titles:\n",
      "[('to', 1283), ('the', 1167), ('The', 899), ('of', 864), ('in', 853), ('Trump', 780), ('for', 594), ('on', 589), ('and', 561), ('Clinton', 535), ('a', 493), ('Hillary', 472), ('is', 403), ('To', 402), ('In', 274), ('Is', 273), ('Donald', 264), ('Obama', 241), ('A', 231), ('GOP', 227)]\n",
      "Most common words in texts:\n",
      "[('the', 258287), ('to', 136726), ('of', 128321), ('and', 111419), ('a', 102501), ('in', 88519), ('that', 64272), ('is', 51951), ('for', 43472), ('on', 37624), ('with', 29296), ('as', 28971), ('The', 27197), ('was', 26567), ('are', 24582), ('be', 23801), ('have', 23759), ('by', 22722), ('he', 22613), ('has', 22042)]\n"
     ]
    }
   ],
   "source": [
    "# Looking for common keywords or phrases in titles and texts\n",
    "from collections import Counter\n",
    "\n",
    "# Tokenize titles and texts\n",
    "titles_tokens = [word for sentence in data['title'].str.split() for word in sentence]\n",
    "texts_tokens = [word for sentence in data['text'].str.split() for word in sentence]\n",
    "\n",
    "# Count the frequency of words in titles and texts\n",
    "title_word_freq = Counter(titles_tokens)\n",
    "text_word_freq = Counter(texts_tokens)\n",
    "\n",
    "# Print most common words in titles and texts\n",
    "print(\"Most common words in titles:\")\n",
    "print(title_word_freq.most_common(20))\n",
    "\n",
    "print(\"Most common words in texts:\")\n",
    "print(text_word_freq.most_common(20))"
   ]
  },
  {
   "cell_type": "code",
   "execution_count": 28,
   "id": "809a39d6",
   "metadata": {},
   "outputs": [
    {
     "name": "stderr",
     "output_type": "stream",
     "text": [
      "[nltk_data] Downloading package punkt to\n",
      "[nltk_data]     C:\\Users\\kakar\\AppData\\Roaming\\nltk_data...\n",
      "[nltk_data]   Package punkt is already up-to-date!\n",
      "[nltk_data] Downloading package stopwords to\n",
      "[nltk_data]     C:\\Users\\kakar\\AppData\\Roaming\\nltk_data...\n",
      "[nltk_data]   Package stopwords is already up-to-date!\n"
     ]
    },
    {
     "data": {
      "text/plain": [
       "True"
      ]
     },
     "execution_count": 28,
     "metadata": {},
     "output_type": "execute_result"
    }
   ],
   "source": [
    "#Part-2: Preprocessing\n",
    "\n",
    "import nltk\n",
    "import re\n",
    "from nltk.tokenize import word_tokenize\n",
    "from nltk.corpus import stopwords\n",
    "from nltk.stem import PorterStemmer\n",
    "from sklearn.feature_extraction.text import TfidfVectorizer\n",
    "\n",
    "nltk.download('punkt')\n",
    "nltk.download('stopwords')"
   ]
  },
  {
   "cell_type": "code",
   "execution_count": 29,
   "id": "cebc9e18",
   "metadata": {},
   "outputs": [],
   "source": [
    "# Concatenate title and text data\n",
    "data['combined_text'] = data['title'] + ' ' + data['text']\n",
    "data['label'] = data['label'].map({'FAKE': 1, 'REAL': 0}).astype('int')\n",
    "\n",
    "\n",
    "port_stem=PorterStemmer()\n",
    "\n",
    "#Processing the data\n",
    "def preprocess_data(content):\n",
    "    con=re.sub('[^a-zA-Z]', ' ', content) # Removing special characters, punctuation, and numbers\n",
    "    con=con.lower()\n",
    "    word_tokens=word_tokenize(con) #Tokenization\n",
    "    stemmed_tokens=[port_stem.stem(word) for word in word_tokens if not word in stopwords.words('english')] #Stemming and stop words removal\n",
    "    stemmed_sentence=' '.join(stemmed_tokens)\n",
    "    return stemmed_sentence\n",
    "\n",
    "\n",
    "data['combined_text']= data['combined_text'].apply(preprocess_data)\n",
    "\n",
    "\n",
    "# Vectorization: Using TF-IDF vectorization to convert the text data into numerical representations\n",
    "tfidf_vectorizer = TfidfVectorizer()\n",
    "\n",
    "# Fit and transform the text data. \n",
    "# We will have our preprocessed and vectorized data ready for classification\n",
    "text_tfidf = tfidf_vectorizer.fit_transform(data['combined_text'])"
   ]
  },
  {
   "cell_type": "code",
   "execution_count": 30,
   "id": "5dddb3d3",
   "metadata": {},
   "outputs": [
    {
     "data": {
      "text/html": [
       "<div>\n",
       "<style scoped>\n",
       "    .dataframe tbody tr th:only-of-type {\n",
       "        vertical-align: middle;\n",
       "    }\n",
       "\n",
       "    .dataframe tbody tr th {\n",
       "        vertical-align: top;\n",
       "    }\n",
       "\n",
       "    .dataframe thead th {\n",
       "        text-align: right;\n",
       "    }\n",
       "</style>\n",
       "<table border=\"1\" class=\"dataframe\">\n",
       "  <thead>\n",
       "    <tr style=\"text-align: right;\">\n",
       "      <th></th>\n",
       "      <th>Unnamed: 0</th>\n",
       "      <th>title</th>\n",
       "      <th>text</th>\n",
       "      <th>label</th>\n",
       "      <th>title_length</th>\n",
       "      <th>text_length</th>\n",
       "      <th>combined_text</th>\n",
       "    </tr>\n",
       "  </thead>\n",
       "  <tbody>\n",
       "    <tr>\n",
       "      <th>0</th>\n",
       "      <td>8476</td>\n",
       "      <td>You Can Smell Hillary’s Fear</td>\n",
       "      <td>Daniel Greenfield, a Shillman Journalism Fello...</td>\n",
       "      <td>1</td>\n",
       "      <td>28</td>\n",
       "      <td>7518</td>\n",
       "      <td>smell hillari fear daniel greenfield shillman ...</td>\n",
       "    </tr>\n",
       "    <tr>\n",
       "      <th>1</th>\n",
       "      <td>10294</td>\n",
       "      <td>Watch The Exact Moment Paul Ryan Committed Pol...</td>\n",
       "      <td>Google Pinterest Digg Linkedin Reddit Stumbleu...</td>\n",
       "      <td>1</td>\n",
       "      <td>85</td>\n",
       "      <td>2646</td>\n",
       "      <td>watch exact moment paul ryan commit polit suic...</td>\n",
       "    </tr>\n",
       "    <tr>\n",
       "      <th>2</th>\n",
       "      <td>3608</td>\n",
       "      <td>Kerry to go to Paris in gesture of sympathy</td>\n",
       "      <td>U.S. Secretary of State John F. Kerry said Mon...</td>\n",
       "      <td>0</td>\n",
       "      <td>43</td>\n",
       "      <td>2543</td>\n",
       "      <td>kerri go pari gestur sympathi u secretari stat...</td>\n",
       "    </tr>\n",
       "    <tr>\n",
       "      <th>3</th>\n",
       "      <td>10142</td>\n",
       "      <td>Bernie supporters on Twitter erupt in anger ag...</td>\n",
       "      <td>— Kaydee King (@KaydeeKing) November 9, 2016 T...</td>\n",
       "      <td>1</td>\n",
       "      <td>84</td>\n",
       "      <td>2660</td>\n",
       "      <td>berni support twitter erupt anger dnc tri warn...</td>\n",
       "    </tr>\n",
       "    <tr>\n",
       "      <th>4</th>\n",
       "      <td>875</td>\n",
       "      <td>The Battle of New York: Why This Primary Matters</td>\n",
       "      <td>It's primary day in New York and front-runners...</td>\n",
       "      <td>0</td>\n",
       "      <td>48</td>\n",
       "      <td>1840</td>\n",
       "      <td>battl new york primari matter primari day new ...</td>\n",
       "    </tr>\n",
       "  </tbody>\n",
       "</table>\n",
       "</div>"
      ],
      "text/plain": [
       "   Unnamed: 0                                              title  \\\n",
       "0        8476                       You Can Smell Hillary’s Fear   \n",
       "1       10294  Watch The Exact Moment Paul Ryan Committed Pol...   \n",
       "2        3608        Kerry to go to Paris in gesture of sympathy   \n",
       "3       10142  Bernie supporters on Twitter erupt in anger ag...   \n",
       "4         875   The Battle of New York: Why This Primary Matters   \n",
       "\n",
       "                                                text  label  title_length  \\\n",
       "0  Daniel Greenfield, a Shillman Journalism Fello...      1            28   \n",
       "1  Google Pinterest Digg Linkedin Reddit Stumbleu...      1            85   \n",
       "2  U.S. Secretary of State John F. Kerry said Mon...      0            43   \n",
       "3  — Kaydee King (@KaydeeKing) November 9, 2016 T...      1            84   \n",
       "4  It's primary day in New York and front-runners...      0            48   \n",
       "\n",
       "   text_length                                      combined_text  \n",
       "0         7518  smell hillari fear daniel greenfield shillman ...  \n",
       "1         2646  watch exact moment paul ryan commit polit suic...  \n",
       "2         2543  kerri go pari gestur sympathi u secretari stat...  \n",
       "3         2660  berni support twitter erupt anger dnc tri warn...  \n",
       "4         1840  battl new york primari matter primari day new ...  "
      ]
     },
     "execution_count": 30,
     "metadata": {},
     "output_type": "execute_result"
    }
   ],
   "source": [
    "data.head()"
   ]
  },
  {
   "cell_type": "code",
   "execution_count": 31,
   "id": "4cb56049",
   "metadata": {},
   "outputs": [],
   "source": [
    "#Part-3: Models\n",
    "from sklearn.model_selection import train_test_split\n",
    "from sklearn.linear_model import LogisticRegression\n",
    "from sklearn.metrics import accuracy_score, classification_report\n",
    "\n",
    "\n",
    "# Splitting the Dataset\n",
    "x = text_tfidf  # TF-IDF vectorized text data\n",
    "y = data['label']\n",
    "x_train , x_test , y_train, y_test = train_test_split(x, y, test_size=0.20)"
   ]
  },
  {
   "cell_type": "code",
   "execution_count": 33,
   "id": "7ec7b8d0",
   "metadata": {},
   "outputs": [
    {
     "name": "stdout",
     "output_type": "stream",
     "text": [
      "1. Logistic Regression\n",
      "Accuracy: 0.914759273875296\n",
      "Classification Report:\n",
      "              precision    recall  f1-score   support\n",
      "\n",
      "           0       0.94      0.89      0.92       666\n",
      "           1       0.89      0.94      0.91       601\n",
      "\n",
      "    accuracy                           0.91      1267\n",
      "   macro avg       0.91      0.92      0.91      1267\n",
      "weighted avg       0.92      0.91      0.91      1267\n",
      "\n",
      "Confusion Matrix:\n",
      "[[594  72]\n",
      " [ 36 565]]\n"
     ]
    }
   ],
   "source": [
    "#Model Training and Evaluation\n",
    "\n",
    "\n",
    "#1. Logistic Regression\n",
    "\n",
    "from sklearn.linear_model import LogisticRegression\n",
    "import seaborn as sns\n",
    "from sklearn.metrics import accuracy_score, confusion_matrix\n",
    "\n",
    "LR = LogisticRegression(solver = \"liblinear\")\n",
    "LR.fit(x_train, y_train)\n",
    "y_pred_lr = LR.predict(x_test)\n",
    "accuracy = accuracy_score(y_test, y_pred_lr)\n",
    "\n",
    "print(\"1. Logistic Regression\")\n",
    "print(\"Accuracy:\", accuracy)\n",
    "print(\"Classification Report:\")\n",
    "print(classification_report(y_test, y_pred_lr))\n",
    "print(\"Confusion Matrix:\")\n",
    "conf_matrix_lr = confusion_matrix(y_test,y_pred_lr)\n",
    "print(conf_matrix_lr)\n",
    "# Precision = True Positives / (True Positives + False Positives)\n",
    "# Recall = True Positives / (True Positives + False Negatives)"
   ]
  },
  {
   "cell_type": "code",
   "execution_count": 34,
   "id": "3452c5a3",
   "metadata": {},
   "outputs": [
    {
     "data": {
      "image/png": "[encoded data removed]",
      "text/plain": [
       "<Figure size 400x300 with 1 Axes>"
      ]
     },
     "metadata": {},
     "output_type": "display_data"
    }
   ],
   "source": [
    "# Plotting confusion matrix as a heatmap\n",
    "plt.figure(figsize=(4, 3))\n",
    "sns.heatmap(conf_matrix_lr, annot=True, cmap='Reds', fmt='g', cbar=False)\n",
    "plt.xlabel('Predicted labels')\n",
    "plt.ylabel('True labels')\n",
    "plt.title('Confusion Matrix - Logistic Regression')\n",
    "plt.show()"
   ]
  },
  {
   "cell_type": "code",
   "execution_count": 35,
   "id": "68c34a20",
   "metadata": {},
   "outputs": [
    {
     "name": "stdout",
     "output_type": "stream",
     "text": [
      "\n",
      " 2. Decision Tree Classifier\n",
      "Accuracy: 0.8287292817679558\n",
      "Classification Report:\n",
      "              precision    recall  f1-score   support\n",
      "\n",
      "           0       0.84      0.83      0.84       666\n",
      "           1       0.82      0.83      0.82       601\n",
      "\n",
      "    accuracy                           0.83      1267\n",
      "   macro avg       0.83      0.83      0.83      1267\n",
      "weighted avg       0.83      0.83      0.83      1267\n",
      "\n",
      "Confusion Matrix:\n",
      "[[554 112]\n",
      " [105 496]]\n"
     ]
    }
   ],
   "source": [
    "#2.Decision Tree Classifier\n",
    "from sklearn.tree import DecisionTreeClassifier\n",
    "dec_tree_model=DecisionTreeClassifier(criterion = \"gini\", )\n",
    "dec_tree_model.fit(x_train, y_train)\n",
    "y_pred_dt=dec_tree_model.predict(x_test)\n",
    "accuracy = accuracy_score(y_test, y_pred_dt)\n",
    "\n",
    "print(\"\\n 2. Decision Tree Classifier\")\n",
    "print(\"Accuracy:\", accuracy)\n",
    "print(\"Classification Report:\")\n",
    "print(classification_report(y_test, y_pred_dt))\n",
    "print(\"Confusion Matrix:\")\n",
    "conf_matrix_dt = confusion_matrix(y_test,y_pred_dt)\n",
    "print(conf_matrix_dt)\n",
    "# Precision = True Positives / (True Positives + False Positives)\n",
    "# Recall = True Positives / (True Positives + False Negatives)"
   ]
  },
  {
   "cell_type": "code",
   "execution_count": 36,
   "id": "a3cd96f6",
   "metadata": {},
   "outputs": [
    {
     "data": {
      "image/png": "[encoded data removed]",
      "text/plain": [
       "<Figure size 400x300 with 1 Axes>"
      ]
     },
     "metadata": {},
     "output_type": "display_data"
    }
   ],
   "source": [
    "# Plotting confusion matrix as a heatmap\n",
    "plt.figure(figsize=(4, 3))\n",
    "sns.heatmap(conf_matrix_dt, annot=True, cmap='Reds', fmt='g', cbar=False)\n",
    "plt.xlabel('Predicted labels')\n",
    "plt.ylabel('True labels')\n",
    "plt.title('Confusion Matrix - Decision Tree')\n",
    "plt.show()"
   ]
  },
  {
   "cell_type": "code",
   "execution_count": 37,
   "id": "d6e8ae33",
   "metadata": {},
   "outputs": [
    {
     "name": "stdout",
     "output_type": "stream",
     "text": [
      "\n",
      " 3. Random Forest Classifier\n",
      "Accuracy: 0.8950276243093923\n",
      "Classification Report:\n",
      "              precision    recall  f1-score   support\n",
      "\n",
      "           0       0.90      0.90      0.90       666\n",
      "           1       0.89      0.89      0.89       601\n",
      "\n",
      "    accuracy                           0.90      1267\n",
      "   macro avg       0.89      0.89      0.89      1267\n",
      "weighted avg       0.90      0.90      0.90      1267\n",
      "\n",
      "Confusion Matrix:\n",
      "[[598  68]\n",
      " [ 65 536]]\n"
     ]
    }
   ],
   "source": [
    "#3. Random Forest Classifier\n",
    "from sklearn.ensemble import RandomForestClassifier\n",
    "rfc = RandomForestClassifier(criterion = \"gini\", n_estimators = 150)\n",
    "rfc.fit(x_train, y_train)\n",
    "y_pred_rf = rfc.predict(x_test)\n",
    "accuracy = accuracy_score(y_test, y_pred_rf)\n",
    "\n",
    "print(\"\\n 3. Random Forest Classifier\")\n",
    "print(\"Accuracy:\", accuracy)\n",
    "print(\"Classification Report:\")\n",
    "print(classification_report(y_test, y_pred_rf))\n",
    "print(\"Confusion Matrix:\")\n",
    "conf_matrix_rf = confusion_matrix(y_test,y_pred_rf)\n",
    "print(conf_matrix_rf)\n",
    "# Precision = True Positives / (True Positives + False Positives)\n",
    "# Recall = True Positives / (True Positives + False Negatives)"
   ]
  },
  {
   "cell_type": "code",
   "execution_count": 38,
   "id": "01bb1bf5",
   "metadata": {},
   "outputs": [
    {
     "data": {
      "image/png": "[encoded data removed]",
      "text/plain": [
       "<Figure size 400x300 with 1 Axes>"
      ]
     },
     "metadata": {},
     "output_type": "display_data"
    }
   ],
   "source": [
    "# Plotting confusion matrix as a heatmap\n",
    "plt.figure(figsize=(4, 3))\n",
    "sns.heatmap(conf_matrix_rf, annot=True, cmap='Reds', fmt='g', cbar=False)\n",
    "plt.xlabel('Predicted labels')\n",
    "plt.ylabel('True labels')\n",
    "plt.title('Confusion Matrix - Random Forest')\n",
    "plt.show()"
   ]
  },
  {
   "cell_type": "code",
   "execution_count": 39,
   "id": "1334a0b0",
   "metadata": {},
   "outputs": [],
   "source": [
    "#Part-4: Model Deployment: UI and Prediction\n",
    "\n",
    "import pickle\n",
    "pickle.dump(tfidf_vectorizer, open('vector.pkl', 'wb'))\n",
    "pickle.dump(LR, open('model.pkl', 'wb'))\n"
   ]
  }
 ],
 "metadata": {
  "kernelspec": {
   "display_name": "Python 3",
   "language": "python",
   "name": "python3"
  },
  "language_info": {
   "codemirror_mode": {
    "name": "ipython",
    "version": 3
   },
   "file_extension": ".py",
   "mimetype": "text/x-python",
   "name": "python",
   "nbconvert_exporter": "python",
   "pygments_lexer": "ipython3",
   "version": "3.12.0"
  },
  "vscode": {
   "interpreter": {
    "hash": "1c442f56f513d946697b54b9a37b89914a7453601d4cdab64d33f95287da7f98"
   }
  }
 },
 "nbformat": 4,
 "nbformat_minor": 5
}
